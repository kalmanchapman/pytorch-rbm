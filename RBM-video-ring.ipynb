{
 "cells": [
  {
   "cell_type": "code",
   "execution_count": 5,
   "metadata": {},
   "outputs": [],
   "source": [
    "# %load ./rbm.py\n",
    "import torch\n",
    "\n",
    "\n",
    "class RBM():\n",
    "\n",
    "    def __init__(self, num_visible, num_hidden, k, learning_rate=1e-3, momentum_coefficient=0.5, weight_decay=1e-4, use_cuda=True):\n",
    "        self.num_visible = num_visible\n",
    "        self.num_hidden = num_hidden\n",
    "        self.k = k\n",
    "        self.learning_rate = learning_rate\n",
    "        self.momentum_coefficient = momentum_coefficient\n",
    "        self.weight_decay = weight_decay\n",
    "        self.use_cuda = use_cuda\n",
    "\n",
    "        self.weights = torch.randn(num_visible, num_hidden) * 0.1\n",
    "        self.visible_bias = torch.ones(num_visible) * 0.5\n",
    "        self.hidden_bias = torch.zeros(num_hidden)\n",
    "\n",
    "        self.weights_momentum = torch.zeros(num_visible, num_hidden)\n",
    "        self.visible_bias_momentum = torch.zeros(num_visible)\n",
    "        self.hidden_bias_momentum = torch.zeros(num_hidden)\n",
    "\n",
    "        if self.use_cuda:\n",
    "            self.weights = self.weights.cuda()\n",
    "            self.visible_bias = self.visible_bias.cuda()\n",
    "            self.hidden_bias = self.hidden_bias.cuda()\n",
    "\n",
    "            self.weights_momentum = self.weights_momentum.cuda()\n",
    "            self.visible_bias_momentum = self.visible_bias_momentum.cuda()\n",
    "            self.hidden_bias_momentum = self.hidden_bias_momentum.cuda()\n",
    "\n",
    "    def sample_hidden(self, visible_probabilities):\n",
    "        print(visible_probabilities.shape)\n",
    "        print(self.weights.shape)\n",
    "        hidden_activations = torch.matmul(visible_probabilities, self.weights) + self.hidden_bias\n",
    "        hidden_probabilities = self._sigmoid(hidden_activations)\n",
    "        return hidden_probabilities\n",
    "\n",
    "    def sample_visible(self, hidden_probabilities):\n",
    "        visible_activations = torch.matmul(hidden_probabilities, self.weights.t()) + self.visible_bias\n",
    "        visible_probabilities = self._sigmoid(visible_activations)\n",
    "        return visible_probabilities\n",
    "\n",
    "    def contrastive_divergence(self, input_data):\n",
    "        # Positive phase\n",
    "        positive_hidden_probabilities = self.sample_hidden(input_data)\n",
    "        positive_hidden_activations = (positive_hidden_probabilities >= self._random_probabilities(self.num_hidden)).float()\n",
    "        positive_associations = torch.matmul(input_data.t(), positive_hidden_activations)\n",
    "\n",
    "        # Negative phase\n",
    "        hidden_activations = positive_hidden_activations\n",
    "\n",
    "        for step in range(self.k):\n",
    "            visible_probabilities = self.sample_visible(hidden_activations)\n",
    "            hidden_probabilities = self.sample_hidden(visible_probabilities)\n",
    "            hidden_activations = (hidden_probabilities >= self._random_probabilities(self.num_hidden)).float()\n",
    "\n",
    "        negative_visible_probabilities = visible_probabilities\n",
    "        negative_hidden_probabilities = hidden_probabilities\n",
    "\n",
    "        negative_associations = torch.matmul(negative_visible_probabilities.t(), negative_hidden_probabilities)\n",
    "\n",
    "        # Update parameters\n",
    "        self.weights_momentum *= self.momentum_coefficient\n",
    "        self.weights_momentum += (positive_associations - negative_associations)\n",
    "\n",
    "        self.visible_bias_momentum *= self.momentum_coefficient\n",
    "        self.visible_bias_momentum += torch.sum(input_data - negative_visible_probabilities, dim=0)\n",
    "\n",
    "        self.hidden_bias_momentum *= self.momentum_coefficient\n",
    "        self.hidden_bias_momentum += torch.sum(positive_hidden_probabilities - negative_hidden_probabilities, dim=0)\n",
    "\n",
    "        batch_size = input_data.size(0)\n",
    "\n",
    "        self.weights += self.weights_momentum * self.learning_rate / batch_size\n",
    "        self.visible_bias += self.visible_bias_momentum * self.learning_rate / batch_size\n",
    "        self.hidden_bias += self.hidden_bias_momentum * self.learning_rate / batch_size\n",
    "\n",
    "        self.weights -= self.weights * self.weight_decay  # L2 weight decay\n",
    "\n",
    "        # Compute reconstruction error\n",
    "        error = torch.sum((input_data - negative_visible_probabilities)**2)\n",
    "\n",
    "        return error\n",
    "\n",
    "    def _sigmoid(self, x):\n",
    "        return 1 / (1 + torch.exp(-x))\n",
    "\n",
    "    def _random_probabilities(self, num):\n",
    "        random_probabilities = torch.rand(num)\n",
    "\n",
    "        if self.use_cuda:\n",
    "            random_probabilities = random_probabilities.cuda()\n",
    "\n",
    "        return random_probabilities\n",
    "\n",
    "\n"
   ]
  },
  {
   "cell_type": "code",
   "execution_count": 6,
   "metadata": {},
   "outputs": [],
   "source": [
    "from PIL import Image\n",
    "#from IPython.display import display, Image"
   ]
  },
  {
   "cell_type": "code",
   "execution_count": 7,
   "metadata": {},
   "outputs": [],
   "source": [
    "# %load mnist_example.py\n",
    "import numpy as np\n",
    "from sklearn.linear_model import LogisticRegression\n",
    "import torch\n",
    "import torchvision.datasets\n",
    "import torchvision.models\n",
    "import torchvision.transforms"
   ]
  },
  {
   "cell_type": "code",
   "execution_count": 25,
   "metadata": {},
   "outputs": [],
   "source": [
    "import redis\n",
    "import io\n",
    "import base64\n",
    "\n",
    "def decoder(img_str):\n",
    "    return base64.b64encode(img_str).decode('utf-8')\n",
    "\n",
    "def encoder(img_str):\n",
    "    return base64.b64decode(img_str.decode('utf-8'))\n",
    "\n",
    "def fetch_ring_im(ind, redis):\n",
    "    img_str = redis.get('frame_%05d' % ind)\n",
    "    enc_str = encoder(img_str)\n",
    "    img = Image.open(io.BytesIO(enc_str))\n",
    "    return img\n",
    "\n",
    "def fetch_tensor_im(ind, redis, t):\n",
    "    im = fetch_ring_im(ind, redis)\n",
    "    t = t(im)\n",
    "    return t.view(3, 720 * 1024)"
   ]
  },
  {
   "cell_type": "code",
   "execution_count": 26,
   "metadata": {},
   "outputs": [],
   "source": [
    "VISIBLE_UNITS = 720 * 1024\n",
    "HIDDEN_UNITS = 640\n",
    "EPOCHS=5\n",
    "BATCH_SIZE=3\n",
    "CD_K=2\n",
    "CUDA=False"
   ]
  },
  {
   "cell_type": "code",
   "execution_count": 23,
   "metadata": {},
   "outputs": [
    {
     "name": "stdout",
     "output_type": "stream",
     "text": [
      "RBM Initialized...\n"
     ]
    }
   ],
   "source": [
    "from rbm import RBM\n",
    "rbm = RBM(VISIBLE_UNITS, HIDDEN_UNITS, CD_K, use_cuda=CUDA)\n",
    "print('RBM Initialized...')"
   ]
  },
  {
   "cell_type": "code",
   "execution_count": null,
   "metadata": {
    "scrolled": true
   },
   "outputs": [
    {
     "name": "stdout",
     "output_type": "stream",
     "text": [
      "Training RBM on frame_00000...\n",
      "Epoch Error (epoch=0): 894552.2413\n",
      "Epoch Error (epoch=1): 806899.1297\n",
      "Epoch Error (epoch=2): 787612.2400\n",
      "Epoch Error (epoch=3): 787870.9363\n",
      "Epoch Error (epoch=4): 786755.0162\n",
      "Training RBM on frame_00001...\n",
      "Epoch Error (epoch=0): 789381.4138\n",
      "Epoch Error (epoch=1): 788078.2660\n",
      "Epoch Error (epoch=2): 787596.7765\n",
      "Epoch Error (epoch=3): 787272.9111\n",
      "Epoch Error (epoch=4): 785868.0121\n",
      "Training RBM on frame_00002...\n",
      "Epoch Error (epoch=0): 783801.1623\n",
      "Epoch Error (epoch=1): 782783.4660\n",
      "Epoch Error (epoch=2): 781876.9494\n",
      "Epoch Error (epoch=3): 780987.6345\n",
      "Epoch Error (epoch=4): 780735.8847\n",
      "Training RBM on frame_00003...\n",
      "Epoch Error (epoch=0): 779077.3805\n",
      "Epoch Error (epoch=1): 777555.1780\n",
      "Epoch Error (epoch=2): 776368.4218\n",
      "Epoch Error (epoch=3): 776585.7109\n",
      "Epoch Error (epoch=4): 775043.5334\n",
      "Training RBM on frame_00004...\n",
      "Epoch Error (epoch=0): 774303.4899\n",
      "Epoch Error (epoch=1): 773571.6007\n",
      "Epoch Error (epoch=2): 772840.1275\n",
      "Epoch Error (epoch=3): 772360.6784\n",
      "Epoch Error (epoch=4): 771721.7973\n",
      "Training RBM on frame_00005...\n",
      "Epoch Error (epoch=0): 770810.2869\n",
      "Epoch Error (epoch=1): 770080.7330\n",
      "Epoch Error (epoch=2): 769351.5724\n",
      "Epoch Error (epoch=3): 768622.8532\n",
      "Epoch Error (epoch=4): 767894.5996\n",
      "Training RBM on frame_00006...\n",
      "Epoch Error (epoch=0): 767644.0629\n",
      "Epoch Error (epoch=1): 766916.4380\n",
      "Epoch Error (epoch=2): 766189.2385\n",
      "Epoch Error (epoch=3): 765462.4980\n",
      "Epoch Error (epoch=4): 764736.2333\n",
      "Training RBM on frame_00007...\n",
      "Epoch Error (epoch=0): 764503.0239\n",
      "Epoch Error (epoch=1): 763507.7175\n",
      "Epoch Error (epoch=2): 762936.0820\n",
      "Epoch Error (epoch=3): 762040.4333\n",
      "Epoch Error (epoch=4): 761226.7729\n",
      "Training RBM on frame_00008...\n",
      "Epoch Error (epoch=0): 761260.6294\n",
      "Epoch Error (epoch=1): 760537.2911\n",
      "Epoch Error (epoch=2): 759814.2949\n"
     ]
    }
   ],
   "source": [
    "frame = 0\n",
    "ringsize = 10000\n",
    "r = redis.StrictRedis(host='redis')\n",
    "t = torchvision.transforms.ToTensor()\n",
    "while True:\n",
    "    tens = fetch_tensor_im(frame, r, t)\n",
    "    data_loader = torch.utils.data.DataLoader(tens, batch_size=BATCH_SIZE)\n",
    "    ########## TRAINING RBM ##########\n",
    "    print('Training RBM on frame_%05d...' % frame)\n",
    "    for epoch in range(EPOCHS):\n",
    "        epoch_error = 0.0\n",
    "\n",
    "        for batch in data_loader:\n",
    "            #batch = batch.view(len(batch), VISIBLE_UNITS)  # flatten input data\n",
    "\n",
    "            if CUDA:\n",
    "                batch = batch.cuda()\n",
    "\n",
    "            batch_error = rbm.contrastive_divergence(batch)\n",
    "\n",
    "            epoch_error += batch_error\n",
    "\n",
    "        print('Epoch Error (epoch=%d): %.4f' % (epoch, epoch_error))\n",
    "    frame += 1\n",
    "    if frame > ringsize:\n",
    "        frame = 0"
   ]
  },
  {
   "cell_type": "code",
   "execution_count": null,
   "metadata": {},
   "outputs": [],
   "source": [
    "sample = rbm.sample_visible(torch.randn(3, 640))\n",
    "sample"
   ]
  },
  {
   "cell_type": "code",
   "execution_count": null,
   "metadata": {},
   "outputs": [],
   "source": [
    "sample = rbm.sample_visible(torch.randn(3, 640))\n",
    "torchvision.transforms.ToPILImage()(sample.view(3, 720, 1024))"
   ]
  },
  {
   "cell_type": "code",
   "execution_count": null,
   "metadata": {},
   "outputs": [],
   "source": [
    "l = rbm.sample_hidden(simply_flattened)\n",
    "torchvision.transforms.ToPILImage()(l.view(3, 32, 20))"
   ]
  },
  {
   "cell_type": "code",
   "execution_count": null,
   "metadata": {},
   "outputs": [],
   "source": [
    "v = rbm.sample_visible(l)\n",
    "torchvision.transforms.ToPILImage()(v.view(3, 720, 1024))"
   ]
  },
  {
   "cell_type": "code",
   "execution_count": null,
   "metadata": {},
   "outputs": [],
   "source": [
    "im"
   ]
  },
  {
   "cell_type": "code",
   "execution_count": null,
   "metadata": {},
   "outputs": [],
   "source": [
    "la = rbm.sample_hidden(simply_flattened)\n",
    "la_n = la.numpy()\n",
    "co = np.corrcoef(la_n)"
   ]
  },
  {
   "cell_type": "code",
   "execution_count": null,
   "metadata": {},
   "outputs": [],
   "source": [
    "stamp = torchvision.transforms.ToPILImage()(la.view(3, 32, 20))\n",
    "stamp.resize([720, 1024])"
   ]
  },
  {
   "cell_type": "code",
   "execution_count": null,
   "metadata": {},
   "outputs": [],
   "source": [
    "%matplotlib inline"
   ]
  },
  {
   "cell_type": "code",
   "execution_count": null,
   "metadata": {},
   "outputs": [],
   "source": [
    "import pandas as pd\n",
    "df = pd.DataFrame(la_n)\n",
    "p = df.T.plot.kde(figsize=(16,8))"
   ]
  },
  {
   "cell_type": "code",
   "execution_count": null,
   "metadata": {},
   "outputs": [],
   "source": [
    "# from scipy import stats\n",
    "# stats.gaussian_kde?"
   ]
  },
  {
   "cell_type": "code",
   "execution_count": null,
   "metadata": {},
   "outputs": [],
   "source": [
    "# kde = stats.gaussian_kde(la_n, )"
   ]
  },
  {
   "cell_type": "code",
   "execution_count": null,
   "metadata": {},
   "outputs": [],
   "source": [
    "from sklearn.neighbors import KernelDensity\n",
    "KernelDensity?"
   ]
  },
  {
   "cell_type": "code",
   "execution_count": null,
   "metadata": {},
   "outputs": [],
   "source": [
    "kde = KernelDensity(\n",
    "    bandwidth=0.000001\n",
    ").fit(la_n.T)\n",
    "kde"
   ]
  },
  {
   "cell_type": "code",
   "execution_count": null,
   "metadata": {
    "scrolled": false
   },
   "outputs": [],
   "source": [
    "# projected_image = kde.resample(640)\n",
    "projected_image = kde.sample(640).T\n",
    "pd.DataFrame(projected_image).T.plot.kde(figsize=(16,8))"
   ]
  },
  {
   "cell_type": "code",
   "execution_count": null,
   "metadata": {},
   "outputs": [],
   "source": [
    "la_n.shape == projected_image.shape, np.any(la_n == projected_image)"
   ]
  },
  {
   "cell_type": "code",
   "execution_count": null,
   "metadata": {},
   "outputs": [],
   "source": [
    "projected_image_squashed = projected_image.copy()\n",
    "projected_image_squashed[projected_image_squashed > 1] = 1\n",
    "projected_image_squashed[projected_image_squashed < 0] = 0"
   ]
  },
  {
   "cell_type": "code",
   "execution_count": null,
   "metadata": {},
   "outputs": [],
   "source": [
    "proj_t = torch.Tensor(projected_image_squashed)\n",
    "stamp_e = torchvision.transforms.ToPILImage()(proj_t.view(3, 32, 20))\n",
    "stamp_e.resize([720, 1024])"
   ]
  },
  {
   "cell_type": "code",
   "execution_count": null,
   "metadata": {},
   "outputs": [],
   "source": [
    "\n",
    "fig, axarr = plt.subplots(1,2, figsize=(10, 10))\n",
    "\n",
    "axarr[0].imshow(stamp)\n",
    "axarr[1].imshow(stamp_e)"
   ]
  },
  {
   "cell_type": "code",
   "execution_count": null,
   "metadata": {},
   "outputs": [],
   "source": [
    "vv = rbm.sample_visible(proj_t)\n",
    "torchvision.transforms.ToPILImage()(vv.view(3, 720, 1024))"
   ]
  },
  {
   "cell_type": "code",
   "execution_count": null,
   "metadata": {},
   "outputs": [],
   "source": [
    "a = torchvision.transforms.ToPILImage()(vv.view(3, 720, 1024))\n",
    "b = torchvision.transforms.ToPILImage()(v.view(3, 720, 1024))\n",
    "\n",
    "fig, axarr = plt.subplots(1,2, figsize=(20, 10))\n",
    "\n",
    "axarr[0].imshow(a)\n",
    "axarr[1].imshow(b)"
   ]
  },
  {
   "cell_type": "code",
   "execution_count": null,
   "metadata": {
    "scrolled": false
   },
   "outputs": [],
   "source": [
    "im"
   ]
  },
  {
   "cell_type": "code",
   "execution_count": null,
   "metadata": {
    "scrolled": false
   },
   "outputs": [],
   "source": [
    "# projected_image = kde.resample(640)\n",
    "projected_image_sequence = kde.sample(640 * 1440).T\n",
    "pd.DataFrame(projected_image_sequence).T.plot.kde(figsize=(16,8))"
   ]
  },
  {
   "cell_type": "code",
   "execution_count": null,
   "metadata": {},
   "outputs": [],
   "source": [
    "a = projected_image_sequence[:, 0*640:1*640] \n",
    "b = projected_image_sequence[:, 1439*640:1440*640]\n",
    "a.shape, b.shape\n",
    "np.any(a == b)"
   ]
  },
  {
   "cell_type": "code",
   "execution_count": null,
   "metadata": {},
   "outputs": [],
   "source": [
    "from tqdm import tnrange, tqdm_notebook\n",
    "for i in tnrange(1440, desc='frames'):\n",
    "    p = projected_image_sequence[:, i*640:(i+1)*640]\n",
    "    p[p > 1] = 1\n",
    "    p[p < 0] = 0\n",
    "    proj_t = torch.Tensor(p)\n",
    "    pp = rbm.sample_visible(proj_t)\n",
    "    ipp = torchvision.transforms.ToPILImage()(pp.view(3, 720, 1024))\n",
    "    ipp.save('./image/%05i_projected_shimmer.png' % i)"
   ]
  },
  {
   "cell_type": "code",
   "execution_count": null,
   "metadata": {},
   "outputs": [],
   "source": []
  }
 ],
 "metadata": {
  "kernelspec": {
   "display_name": "Python 3",
   "language": "python",
   "name": "python3"
  },
  "language_info": {
   "codemirror_mode": {
    "name": "ipython",
    "version": 3
   },
   "file_extension": ".py",
   "mimetype": "text/x-python",
   "name": "python",
   "nbconvert_exporter": "python",
   "pygments_lexer": "ipython3",
   "version": "3.5.2"
  }
 },
 "nbformat": 4,
 "nbformat_minor": 2
}
